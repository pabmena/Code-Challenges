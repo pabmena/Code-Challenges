{
  "nbformat": 4,
  "nbformat_minor": 0,
  "metadata": {
    "colab": {
      "provenance": [],
      "authorship_tag": "ABX9TyNhZKP6eBVvBscpLfiOye4q",
      "include_colab_link": true
    },
    "kernelspec": {
      "name": "python3",
      "display_name": "Python 3"
    },
    "language_info": {
      "name": "python"
    }
  },
  "cells": [
    {
      "cell_type": "markdown",
      "metadata": {
        "id": "view-in-github",
        "colab_type": "text"
      },
      "source": [
        "<a href=\"https://colab.research.google.com/github/pabmena/Code-Challenges/blob/main/Untitled0.ipynb\" target=\"_parent\"><img src=\"https://colab.research.google.com/assets/colab-badge.svg\" alt=\"Open In Colab\"/></a>"
      ]
    },
    {
      "cell_type": "code",
      "execution_count": 1,
      "metadata": {
        "colab": {
          "base_uri": "https://localhost:8080/"
        },
        "id": "GJTX22w04cjx",
        "outputId": "07215abc-157f-4469-acee-280b8c8756ab"
      },
      "outputs": [
        {
          "output_type": "stream",
          "name": "stdout",
          "text": [
            "Tamaño del dataframe: (30, 2)\n"
          ]
        }
      ],
      "source": [
        "import pandas as pd\n",
        "\n",
        "url = 'https://raw.githubusercontent.com/anujahlawat/salary-hike/main/Salary_Data.csv'\n",
        "df = pd.read_csv(url)\n",
        "\n",
        "print(\"Tamaño del dataframe:\", df.shape)\n"
      ]
    },
    {
      "cell_type": "code",
      "source": [
        "max_years_experience = df['YearsExperience'].max()\n",
        "\n",
        "print(\"Máximo valor de YearsOfExperience:\", max_years_experience)\n"
      ],
      "metadata": {
        "colab": {
          "base_uri": "https://localhost:8080/"
        },
        "id": "EQDRFFCX42EU",
        "outputId": "f33d1c20-c7fa-4f31-dc47-ebef5c9a511c"
      },
      "execution_count": 2,
      "outputs": [
        {
          "output_type": "stream",
          "name": "stdout",
          "text": [
            "Máximo valor de YearsOfExperience: 10.5\n"
          ]
        }
      ]
    },
    {
      "cell_type": "code",
      "source": [
        "df_sorted = df.sort_values(by='Salary', ascending=True)\n",
        "\n",
        "print(\"Dataframe ordenado por salario ascendente:\\n\", df_sorted)\n"
      ],
      "metadata": {
        "colab": {
          "base_uri": "https://localhost:8080/"
        },
        "id": "gJdBWKnZ49Kg",
        "outputId": "1fe36a69-aca0-45ce-f402-0f3836d68c9d"
      },
      "execution_count": 3,
      "outputs": [
        {
          "output_type": "stream",
          "name": "stdout",
          "text": [
            "Dataframe ordenado por salario ascendente:\n",
            "     YearsExperience    Salary\n",
            "2               1.5   37731.0\n",
            "0               1.1   39343.0\n",
            "4               2.2   39891.0\n",
            "3               2.0   43525.0\n",
            "1               1.3   46205.0\n",
            "7               3.2   54445.0\n",
            "11              4.0   55794.0\n",
            "5               2.9   56642.0\n",
            "12              4.0   56957.0\n",
            "13              4.1   57081.0\n",
            "9               3.7   57189.0\n",
            "6               3.0   60150.0\n",
            "14              4.5   61111.0\n",
            "10              3.9   63218.0\n",
            "8               3.2   64445.0\n",
            "16              5.1   66029.0\n",
            "15              4.9   67938.0\n",
            "18              5.9   81363.0\n",
            "17              5.3   83088.0\n",
            "20              6.8   91738.0\n",
            "19              6.0   93940.0\n",
            "21              7.1   98273.0\n",
            "22              7.9  101302.0\n",
            "25              9.0  105582.0\n",
            "24              8.7  109431.0\n",
            "27              9.6  112635.0\n",
            "23              8.2  113812.0\n",
            "26              9.5  116969.0\n",
            "29             10.5  121872.0\n",
            "28             10.3  122391.0\n"
          ]
        }
      ]
    },
    {
      "cell_type": "code",
      "source": [
        "df['AvgSalary'] = df['Salary'] / df['YearsExperience']\n",
        "\n",
        "print(\"Dataframe con la columna AvgSalary:\\n\", df)\n"
      ],
      "metadata": {
        "colab": {
          "base_uri": "https://localhost:8080/"
        },
        "id": "hRKtXqjb5POx",
        "outputId": "849144c3-6ced-46cf-b387-5a01bb372e3c"
      },
      "execution_count": 4,
      "outputs": [
        {
          "output_type": "stream",
          "name": "stdout",
          "text": [
            "Dataframe con la columna AvgSalary:\n",
            "     YearsExperience    Salary     AvgSalary\n",
            "0               1.1   39343.0  35766.363636\n",
            "1               1.3   46205.0  35542.307692\n",
            "2               1.5   37731.0  25154.000000\n",
            "3               2.0   43525.0  21762.500000\n",
            "4               2.2   39891.0  18132.272727\n",
            "5               2.9   56642.0  19531.724138\n",
            "6               3.0   60150.0  20050.000000\n",
            "7               3.2   54445.0  17014.062500\n",
            "8               3.2   64445.0  20139.062500\n",
            "9               3.7   57189.0  15456.486486\n",
            "10              3.9   63218.0  16209.743590\n",
            "11              4.0   55794.0  13948.500000\n",
            "12              4.0   56957.0  14239.250000\n",
            "13              4.1   57081.0  13922.195122\n",
            "14              4.5   61111.0  13580.222222\n",
            "15              4.9   67938.0  13864.897959\n",
            "16              5.1   66029.0  12946.862745\n",
            "17              5.3   83088.0  15676.981132\n",
            "18              5.9   81363.0  13790.338983\n",
            "19              6.0   93940.0  15656.666667\n",
            "20              6.8   91738.0  13490.882353\n",
            "21              7.1   98273.0  13841.267606\n",
            "22              7.9  101302.0  12823.037975\n",
            "23              8.2  113812.0  13879.512195\n",
            "24              8.7  109431.0  12578.275862\n",
            "25              9.0  105582.0  11731.333333\n",
            "26              9.5  116969.0  12312.526316\n",
            "27              9.6  112635.0  11732.812500\n",
            "28             10.3  122391.0  11882.621359\n",
            "29             10.5  121872.0  11606.857143\n"
          ]
        }
      ]
    },
    {
      "cell_type": "code",
      "source": [
        "import matplotlib.pyplot as plt\n",
        "\n",
        "plt.scatter(df['YearsExperience'], df['Salary'])\n",
        "plt.xlabel('Years of Experience')\n",
        "plt.ylabel('Salary')\n",
        "plt.title('Salary vs Years of Experience')\n",
        "plt.grid()\n",
        "plt.show()\n"
      ],
      "metadata": {
        "colab": {
          "base_uri": "https://localhost:8080/",
          "height": 472
        },
        "id": "mMPdpL415gnC",
        "outputId": "e26fa8e7-2da6-4719-9b36-78047bc84752"
      },
      "execution_count": 5,
      "outputs": [
        {
          "output_type": "display_data",
          "data": {
            "text/plain": [
              "<Figure size 640x480 with 1 Axes>"
            ],
            "image/png": "[encoded data removed]"
          },
          "metadata": {}
        }
      ]
    }
  ]
}